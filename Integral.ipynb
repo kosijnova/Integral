{
  "nbformat": 4,
  "nbformat_minor": 0,
  "metadata": {
    "colab": {
      "name": "Integral.ipynb",
      "provenance": [],
      "collapsed_sections": [],
      "authorship_tag": "ABX9TyPPuqBEOAxpmfVUKQz2xPTo",
      "include_colab_link": true
    },
    "kernelspec": {
      "name": "python3",
      "display_name": "Python 3"
    },
    "language_info": {
      "name": "python"
    }
  },
  "cells": [
    {
      "cell_type": "markdown",
      "metadata": {
        "id": "view-in-github",
        "colab_type": "text"
      },
      "source": [
        "<a href=\"https://colab.research.google.com/github/kosijnova/Integral/blob/main/Integral.ipynb\" target=\"_parent\"><img src=\"https://colab.research.google.com/assets/colab-badge.svg\" alt=\"Open In Colab\"/></a>"
      ]
    },
    {
      "cell_type": "code",
      "execution_count": 5,
      "metadata": {
        "colab": {
          "base_uri": "https://localhost:8080/",
          "height": 421
        },
        "id": "TQYxbK64X0H5",
        "outputId": "e63fa4cb-344d-44c4-e3cd-8b0b2bdb48d4"
      },
      "outputs": [
        {
          "output_type": "stream",
          "name": "stdout",
          "text": [
            "\n",
            "Program do liczenia całki oznaczonej!\n",
            "------------------------------------\n",
            "(C) inż. Piotr Krystosiak\n",
            "    \n",
            "Rectangle:  1919489.1474\n",
            "Trapezoidal:  1919863.5311\n",
            "Monte Carlo:  1928056.641\n"
          ]
        },
        {
          "output_type": "display_data",
          "data": {
            "text/plain": [
              "<Figure size 432x288 with 1 Axes>"
            ],
            "image/png": "[encoded data removed]"
          },
          "metadata": {
            "needs_background": "light"
          }
        }
      ],
      "source": [
        "class WrongMethod(Exception):\n",
        "    pass\n",
        "\n",
        "class NotStringError(Exception):\n",
        "    pass\n",
        "\n",
        "class NotIntError(Exception):\n",
        "    pass\n",
        "\n",
        "class StopLessThanStart(Exception):\n",
        "    pass\n",
        "\n",
        "def title():\n",
        "    print(\"\"\"\n",
        "AREA UNDER THE CURVE!\n",
        "------------------------------------\n",
        "(C) inż. Piotr Krystosiak\n",
        "    \"\"\")\n",
        "    return \"\"\n",
        "    \n",
        "def integral(function: str, x_start: float, x_stop: float, n: int = 10, method: str = \"P\", monteCarloIteration = 1000) -> float:\n",
        "    try:\n",
        "        if not isinstance(function, str):\n",
        "            raise NotStringError\n",
        "        if method not in [\"P\", \"T\", \"MC\"]:\n",
        "            raise WrongMethod\n",
        "        if not isinstance(n, int):\n",
        "            raise NotIntError\n",
        "        if x_stop < x_start:\n",
        "            raise StopLessThanStart\n",
        "    except NotStringError:\n",
        "        print(\"Function is not a string!\")\n",
        "        pass\n",
        "    except WrongMethod:\n",
        "        print(\"Wrong method!\")\n",
        "        pass\n",
        "    except NotIntError:\n",
        "        print(\"N is not an int!\")\n",
        "        pass\n",
        "    except StopLessThanStart:\n",
        "        print(\"X_STOP less than X_START!\")\n",
        "        pass\n",
        "    else:\n",
        "        if method == \"P\":\n",
        "            dx = (x_stop - x_start)/n\n",
        "            out = 0\n",
        "            for i in range(n):\n",
        "                x = x_start + dx * i\n",
        "                out += dx * eval(function)\n",
        "            return round(out,4)\n",
        "        elif method == \"T\":\n",
        "            dx = (x_stop - x_start)/n \n",
        "            out = 0\n",
        "            for i in range(n):\n",
        "                x = x_start + (i * dx)\n",
        "                fa = eval(function)\n",
        "                x = x_start + ((i+1) * dx)\n",
        "                fb = eval(function)\n",
        "                out += ((fa + fb)/2) * dx\n",
        "            return round(out,4)\n",
        "        else:\n",
        "            randVector = np.random.uniform(0, 1, monteCarloIteration)\n",
        "            x = x_start + randVector * (x_stop - x_start)\n",
        "\n",
        "            f_out = eval(function)\n",
        "\n",
        "            out = ((x_stop - x_start)/monteCarloIteration) * np.sum(f_out)\n",
        "\n",
        "            return round(out, 4)\n",
        "\n",
        "        \n",
        "def f_print(function,x_start,x_stop):\n",
        "    try:\n",
        "        if not isinstance(function,str):\n",
        "            raise NotStringError\n",
        "    except NotStringError:\n",
        "        print(\"Not a string!\")\n",
        "        pass\n",
        "    else:\n",
        "        x = np.arange(x_start,x_stop,0.25)\n",
        "        y = eval(function)\n",
        "        plt.plot(x,y,color = \"red\")\n",
        "        plt.show\n",
        "       \n",
        "\n",
        "if __name__ == \"__main__\":\n",
        "    import numpy as np\n",
        "    from matplotlib import pyplot as plt\n",
        "    \n",
        "    func = \"np.cos(7*x)-np.log(2*x)+(3*x**3)\"\n",
        "    x_start = 1\n",
        "    x_stop = 40\n",
        "    \n",
        "    title()\n",
        "    print(\"Rectangle: \",integral(func,x_start,x_stop,10000,\"P\"))\n",
        "    print(\"Trapezoidal: \",integral(func,x_start,x_stop,10000,\"T\"))\n",
        "    print(\"Monte Carlo: \",integral(func,x_start,x_stop,10000,\"MC\", 10000))\n",
        "\n",
        "    f_print(func,1,1400)"
      ]
    }
  ]
}